{
 "cells": [
  {
   "cell_type": "code",
   "execution_count": 2,
   "metadata": {
    "collapsed": false
   },
   "outputs": [],
   "source": [
    "import pandas as pd\n",
    "from pivottablejs import pivot_ui"
   ]
  },
  {
   "cell_type": "code",
   "execution_count": 3,
   "metadata": {
    "collapsed": false
   },
   "outputs": [
    {
     "data": {
      "text/plain": [
       "['Change Log',\n",
       " 'Schedule',\n",
       " 'Deleted Sites',\n",
       " 'Removed Data',\n",
       " 'Rate Centre Analysis']"
      ]
     },
     "execution_count": 3,
     "metadata": {},
     "output_type": "execute_result"
    }
   ],
   "source": [
    "data = pd.ExcelFile('./data/Master File Mar 11_2016 V2 0 DRAFT.xlsx')\n",
    "data.sheet_names"
   ]
  },
  {
   "cell_type": "code",
   "execution_count": 4,
   "metadata": {
    "collapsed": false
   },
   "outputs": [
    {
     "data": {
      "text/html": [
       "<div>\n",
       "<table border=\"1\" class=\"dataframe\">\n",
       "  <thead>\n",
       "    <tr style=\"text-align: right;\">\n",
       "      <th></th>\n",
       "      <th>Branch \n",
       "Category</th>\n",
       "      <th>RBVP ID</th>\n",
       "      <th>SIP Availability Date</th>\n",
       "      <th>Transit</th>\n",
       "      <th>Site Name</th>\n",
       "      <th>Hours of Op Monday</th>\n",
       "      <th>Hours of Op Tuesday</th>\n",
       "      <th>Hours of Op Wednesday</th>\n",
       "      <th>Hours of OP Thursday</th>\n",
       "      <th>Hours of Op Friday</th>\n",
       "      <th>...</th>\n",
       "      <th>Device</th>\n",
       "      <th>Current Service Speed</th>\n",
       "      <th>Speed Kbps</th>\n",
       "      <th>IPT VLAN</th>\n",
       "      <th>PRI Decom Complete (Date)</th>\n",
       "      <th>1FL Migrations Complete (Date)</th>\n",
       "      <th>Centrex Out Orders for Migrated # (Bell) (Date)</th>\n",
       "      <th>Centrex Out Orders for Migrated # (Non-Bell) (Date)</th>\n",
       "      <th>Centrex Out Orders (Disconnects) (Date)</th>\n",
       "      <th>Phone Pickup Complete (Date)</th>\n",
       "    </tr>\n",
       "  </thead>\n",
       "  <tbody>\n",
       "    <tr>\n",
       "      <th>0</th>\n",
       "      <td>P&amp;CB</td>\n",
       "      <td>800740</td>\n",
       "      <td>2016-05-17 00:00:00</td>\n",
       "      <td>2374</td>\n",
       "      <td>MONCTON NORTH BRANCH</td>\n",
       "      <td>17:00</td>\n",
       "      <td>17:00</td>\n",
       "      <td>20:00</td>\n",
       "      <td>20:00</td>\n",
       "      <td>18:00</td>\n",
       "      <td>...</td>\n",
       "      <td>e02374br1</td>\n",
       "      <td>5M</td>\n",
       "      <td>5000</td>\n",
       "      <td>10.137.240.1/25</td>\n",
       "      <td>NaN</td>\n",
       "      <td>NaN</td>\n",
       "      <td>NaN</td>\n",
       "      <td>NaN</td>\n",
       "      <td>NaN</td>\n",
       "      <td>NaN</td>\n",
       "    </tr>\n",
       "    <tr>\n",
       "      <th>1</th>\n",
       "      <td>P&amp;CB</td>\n",
       "      <td>800105</td>\n",
       "      <td>Yes/Oui</td>\n",
       "      <td>354</td>\n",
       "      <td>BRITANNIA &amp; GLEN ERIN BRANCH</td>\n",
       "      <td>17:00:00</td>\n",
       "      <td>17:00:00</td>\n",
       "      <td>17:00:00</td>\n",
       "      <td>20:00:00</td>\n",
       "      <td>18:00:00</td>\n",
       "      <td>...</td>\n",
       "      <td>c00354br1</td>\n",
       "      <td>3M</td>\n",
       "      <td>3000</td>\n",
       "      <td>10.137.95.1/25</td>\n",
       "      <td>NaN</td>\n",
       "      <td>NaN</td>\n",
       "      <td>NaN</td>\n",
       "      <td>NaN</td>\n",
       "      <td>NaN</td>\n",
       "      <td>NaN</td>\n",
       "    </tr>\n",
       "    <tr>\n",
       "      <th>2</th>\n",
       "      <td>DS</td>\n",
       "      <td>803029</td>\n",
       "      <td>Yes/Oui</td>\n",
       "      <td>90301</td>\n",
       "      <td>SUB OF 1PVM</td>\n",
       "      <td>17:30:00</td>\n",
       "      <td>17:30:00</td>\n",
       "      <td>17:30:00</td>\n",
       "      <td>17:30:00</td>\n",
       "      <td>17:30:00</td>\n",
       "      <td>...</td>\n",
       "      <td>e90301vr1</td>\n",
       "      <td>5M</td>\n",
       "      <td>5000</td>\n",
       "      <td>10.138.127.1/25</td>\n",
       "      <td>NaN</td>\n",
       "      <td>NaN</td>\n",
       "      <td>NaN</td>\n",
       "      <td>NaN</td>\n",
       "      <td>NaN</td>\n",
       "      <td>NaN</td>\n",
       "    </tr>\n",
       "    <tr>\n",
       "      <th>3</th>\n",
       "      <td>P&amp;CB</td>\n",
       "      <td>801576</td>\n",
       "      <td>2016-05-17 00:00:00</td>\n",
       "      <td>6113</td>\n",
       "      <td>HERRING COVE ROAD BRANCH</td>\n",
       "      <td>17:00:00</td>\n",
       "      <td>17:00:00</td>\n",
       "      <td>17:00:00</td>\n",
       "      <td>17:00:00</td>\n",
       "      <td>18:00:00</td>\n",
       "      <td>...</td>\n",
       "      <td>e06113br1</td>\n",
       "      <td>5M</td>\n",
       "      <td>5000</td>\n",
       "      <td>10.136.49.129/25</td>\n",
       "      <td>NaN</td>\n",
       "      <td>NaN</td>\n",
       "      <td>NaN</td>\n",
       "      <td>NaN</td>\n",
       "      <td>NaN</td>\n",
       "      <td>NaN</td>\n",
       "    </tr>\n",
       "    <tr>\n",
       "      <th>4</th>\n",
       "      <td>P&amp;CB</td>\n",
       "      <td>800597</td>\n",
       "      <td>2016-05-17 00:00:00</td>\n",
       "      <td>1764</td>\n",
       "      <td>RICHIBUCTO BRANCH</td>\n",
       "      <td>17:00:00</td>\n",
       "      <td>17:00:00</td>\n",
       "      <td>17:00:00</td>\n",
       "      <td>17:00:00</td>\n",
       "      <td>17:00:00</td>\n",
       "      <td>...</td>\n",
       "      <td>e01764br1</td>\n",
       "      <td>DSL</td>\n",
       "      <td>1500</td>\n",
       "      <td>10.138.60.129/25</td>\n",
       "      <td>NaN</td>\n",
       "      <td>NaN</td>\n",
       "      <td>NaN</td>\n",
       "      <td>NaN</td>\n",
       "      <td>NaN</td>\n",
       "      <td>NaN</td>\n",
       "    </tr>\n",
       "  </tbody>\n",
       "</table>\n",
       "<p>5 rows × 87 columns</p>\n",
       "</div>"
      ],
      "text/plain": [
       "  Branch \\nCategory  RBVP ID SIP Availability Date  Transit  \\\n",
       "0              P&CB   800740   2016-05-17 00:00:00     2374   \n",
       "1              P&CB   800105               Yes/Oui      354   \n",
       "2                DS   803029               Yes/Oui    90301   \n",
       "3              P&CB   801576   2016-05-17 00:00:00     6113   \n",
       "4              P&CB   800597   2016-05-17 00:00:00     1764   \n",
       "\n",
       "                      Site Name Hours of Op Monday Hours of Op Tuesday  \\\n",
       "0          MONCTON NORTH BRANCH              17:00               17:00   \n",
       "1  BRITANNIA & GLEN ERIN BRANCH           17:00:00            17:00:00   \n",
       "2                   SUB OF 1PVM           17:30:00            17:30:00   \n",
       "3      HERRING COVE ROAD BRANCH           17:00:00            17:00:00   \n",
       "4             RICHIBUCTO BRANCH           17:00:00            17:00:00   \n",
       "\n",
       "  Hours of Op Wednesday Hours of OP Thursday Hours of Op Friday  \\\n",
       "0                 20:00                20:00              18:00   \n",
       "1              17:00:00             20:00:00           18:00:00   \n",
       "2              17:30:00             17:30:00           17:30:00   \n",
       "3              17:00:00             17:00:00           18:00:00   \n",
       "4              17:00:00             17:00:00           17:00:00   \n",
       "\n",
       "               ...                  Device Current Service Speed Speed Kbps  \\\n",
       "0              ...               e02374br1                    5M       5000   \n",
       "1              ...               c00354br1                    3M       3000   \n",
       "2              ...               e90301vr1                    5M       5000   \n",
       "3              ...               e06113br1                    5M       5000   \n",
       "4              ...               e01764br1                   DSL       1500   \n",
       "\n",
       "           IPT VLAN PRI Decom Complete (Date) 1FL Migrations Complete (Date)  \\\n",
       "0   10.137.240.1/25                       NaN                            NaN   \n",
       "1    10.137.95.1/25                       NaN                            NaN   \n",
       "2   10.138.127.1/25                       NaN                            NaN   \n",
       "3  10.136.49.129/25                       NaN                            NaN   \n",
       "4  10.138.60.129/25                       NaN                            NaN   \n",
       "\n",
       "   Centrex Out Orders for Migrated # (Bell) (Date)  \\\n",
       "0                                              NaN   \n",
       "1                                              NaN   \n",
       "2                                              NaN   \n",
       "3                                              NaN   \n",
       "4                                              NaN   \n",
       "\n",
       "  Centrex Out Orders for Migrated # (Non-Bell) (Date)  \\\n",
       "0                                                NaN    \n",
       "1                                                NaN    \n",
       "2                                                NaN    \n",
       "3                                                NaN    \n",
       "4                                                NaN    \n",
       "\n",
       "  Centrex Out Orders (Disconnects) (Date)  Phone Pickup Complete (Date)  \n",
       "0                                     NaN                           NaN  \n",
       "1                                     NaN                           NaN  \n",
       "2                                     NaN                           NaN  \n",
       "3                                     NaN                           NaN  \n",
       "4                                     NaN                           NaN  \n",
       "\n",
       "[5 rows x 87 columns]"
      ]
     },
     "execution_count": 4,
     "metadata": {},
     "output_type": "execute_result"
    }
   ],
   "source": [
    "df = data.parse('Schedule')\n",
    "df.head()"
   ]
  },
  {
   "cell_type": "code",
   "execution_count": 5,
   "metadata": {
    "collapsed": false
   },
   "outputs": [
    {
     "data": {
      "text/html": [
       "\n",
       "        <iframe\n",
       "            width=\"100%\"\n",
       "            height=\"500\"\n",
       "            src=\"pivottablejs.html\"\n",
       "            frameborder=\"0\"\n",
       "            allowfullscreen\n",
       "        ></iframe>\n",
       "        "
      ],
      "text/plain": [
       "<IPython.lib.display.IFrame at 0x111c634a8>"
      ]
     },
     "execution_count": 5,
     "metadata": {},
     "output_type": "execute_result"
    }
   ],
   "source": [
    "from pivottablejs import pivot_ui\n",
    "pivot_ui(df)"
   ]
  },
  {
   "cell_type": "code",
   "execution_count": null,
   "metadata": {
    "collapsed": true
   },
   "outputs": [],
   "source": []
  }
 ],
 "metadata": {
  "kernelspec": {
   "display_name": "Python 3",
   "language": "python",
   "name": "python3"
  },
  "language_info": {
   "codemirror_mode": {
    "name": "ipython",
    "version": 3
   },
   "file_extension": ".py",
   "mimetype": "text/x-python",
   "name": "python",
   "nbconvert_exporter": "python",
   "pygments_lexer": "ipython3",
   "version": "3.5.1"
  }
 },
 "nbformat": 4,
 "nbformat_minor": 0
}
